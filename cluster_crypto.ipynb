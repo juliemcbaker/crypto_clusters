{
 "cells": [
  {
   "cell_type": "code",
   "execution_count": 1,
   "source": [
    "%matplotlib inline \n",
    "import matplotlib.pyplot as plt\n",
    "import numpy as np\n",
    "import pandas as pd\n",
    "from pathlib import Path"
   ],
   "outputs": [],
   "metadata": {}
  },
  {
   "cell_type": "markdown",
   "source": [
    "## Data Preparation"
   ],
   "metadata": {}
  },
  {
   "cell_type": "markdown",
   "source": [
    "### Read data into pandas"
   ],
   "metadata": {}
  },
  {
   "cell_type": "code",
   "execution_count": 2,
   "source": [
    "orig_data_df = pd.read_csv(Path('crypto_data.csv'))\n",
    "orig_data_df.shape"
   ],
   "outputs": [
    {
     "output_type": "execute_result",
     "data": {
      "text/plain": [
       "(1252, 7)"
      ]
     },
     "metadata": {},
     "execution_count": 2
    }
   ],
   "metadata": {}
  },
  {
   "cell_type": "markdown",
   "source": [
    "### Discard non-traded currencies; then drop 'IsTrading' column"
   ],
   "metadata": {}
  },
  {
   "cell_type": "code",
   "execution_count": 3,
   "source": [
    "working_df = orig_data_df\n",
    "working_df.head()"
   ],
   "outputs": [
    {
     "output_type": "execute_result",
     "data": {
      "text/html": [
       "<div>\n",
       "<style scoped>\n",
       "    .dataframe tbody tr th:only-of-type {\n",
       "        vertical-align: middle;\n",
       "    }\n",
       "\n",
       "    .dataframe tbody tr th {\n",
       "        vertical-align: top;\n",
       "    }\n",
       "\n",
       "    .dataframe thead th {\n",
       "        text-align: right;\n",
       "    }\n",
       "</style>\n",
       "<table border=\"1\" class=\"dataframe\">\n",
       "  <thead>\n",
       "    <tr style=\"text-align: right;\">\n",
       "      <th></th>\n",
       "      <th>Unnamed: 0</th>\n",
       "      <th>CoinName</th>\n",
       "      <th>Algorithm</th>\n",
       "      <th>IsTrading</th>\n",
       "      <th>ProofType</th>\n",
       "      <th>TotalCoinsMined</th>\n",
       "      <th>TotalCoinSupply</th>\n",
       "    </tr>\n",
       "  </thead>\n",
       "  <tbody>\n",
       "    <tr>\n",
       "      <th>0</th>\n",
       "      <td>42</td>\n",
       "      <td>42 Coin</td>\n",
       "      <td>Scrypt</td>\n",
       "      <td>True</td>\n",
       "      <td>PoW/PoS</td>\n",
       "      <td>4.199995e+01</td>\n",
       "      <td>42</td>\n",
       "    </tr>\n",
       "    <tr>\n",
       "      <th>1</th>\n",
       "      <td>365</td>\n",
       "      <td>365Coin</td>\n",
       "      <td>X11</td>\n",
       "      <td>True</td>\n",
       "      <td>PoW/PoS</td>\n",
       "      <td>NaN</td>\n",
       "      <td>2300000000</td>\n",
       "    </tr>\n",
       "    <tr>\n",
       "      <th>2</th>\n",
       "      <td>404</td>\n",
       "      <td>404Coin</td>\n",
       "      <td>Scrypt</td>\n",
       "      <td>True</td>\n",
       "      <td>PoW/PoS</td>\n",
       "      <td>1.055185e+09</td>\n",
       "      <td>532000000</td>\n",
       "    </tr>\n",
       "    <tr>\n",
       "      <th>3</th>\n",
       "      <td>611</td>\n",
       "      <td>SixEleven</td>\n",
       "      <td>SHA-256</td>\n",
       "      <td>True</td>\n",
       "      <td>PoW</td>\n",
       "      <td>NaN</td>\n",
       "      <td>611000</td>\n",
       "    </tr>\n",
       "    <tr>\n",
       "      <th>4</th>\n",
       "      <td>808</td>\n",
       "      <td>808</td>\n",
       "      <td>SHA-256</td>\n",
       "      <td>True</td>\n",
       "      <td>PoW/PoS</td>\n",
       "      <td>0.000000e+00</td>\n",
       "      <td>0</td>\n",
       "    </tr>\n",
       "  </tbody>\n",
       "</table>\n",
       "</div>"
      ],
      "text/plain": [
       "  Unnamed: 0   CoinName Algorithm  IsTrading ProofType  TotalCoinsMined  \\\n",
       "0         42    42 Coin    Scrypt       True   PoW/PoS     4.199995e+01   \n",
       "1        365    365Coin       X11       True   PoW/PoS              NaN   \n",
       "2        404    404Coin    Scrypt       True   PoW/PoS     1.055185e+09   \n",
       "3        611  SixEleven   SHA-256       True       PoW              NaN   \n",
       "4        808        808   SHA-256       True   PoW/PoS     0.000000e+00   \n",
       "\n",
       "  TotalCoinSupply  \n",
       "0              42  \n",
       "1      2300000000  \n",
       "2       532000000  \n",
       "3          611000  \n",
       "4               0  "
      ]
     },
     "metadata": {},
     "execution_count": 3
    }
   ],
   "metadata": {}
  },
  {
   "cell_type": "code",
   "execution_count": 4,
   "source": [
    "working_df.drop(working_df[working_df['IsTrading'] == False].index, inplace=True)\n",
    "working_df.shape"
   ],
   "outputs": [
    {
     "output_type": "execute_result",
     "data": {
      "text/plain": [
       "(1144, 7)"
      ]
     },
     "metadata": {},
     "execution_count": 4
    }
   ],
   "metadata": {}
  },
  {
   "cell_type": "code",
   "execution_count": 5,
   "source": [
    "working_df = working_df.drop(columns=['IsTrading'])\n",
    "working_df.head()"
   ],
   "outputs": [
    {
     "output_type": "execute_result",
     "data": {
      "text/html": [
       "<div>\n",
       "<style scoped>\n",
       "    .dataframe tbody tr th:only-of-type {\n",
       "        vertical-align: middle;\n",
       "    }\n",
       "\n",
       "    .dataframe tbody tr th {\n",
       "        vertical-align: top;\n",
       "    }\n",
       "\n",
       "    .dataframe thead th {\n",
       "        text-align: right;\n",
       "    }\n",
       "</style>\n",
       "<table border=\"1\" class=\"dataframe\">\n",
       "  <thead>\n",
       "    <tr style=\"text-align: right;\">\n",
       "      <th></th>\n",
       "      <th>Unnamed: 0</th>\n",
       "      <th>CoinName</th>\n",
       "      <th>Algorithm</th>\n",
       "      <th>ProofType</th>\n",
       "      <th>TotalCoinsMined</th>\n",
       "      <th>TotalCoinSupply</th>\n",
       "    </tr>\n",
       "  </thead>\n",
       "  <tbody>\n",
       "    <tr>\n",
       "      <th>0</th>\n",
       "      <td>42</td>\n",
       "      <td>42 Coin</td>\n",
       "      <td>Scrypt</td>\n",
       "      <td>PoW/PoS</td>\n",
       "      <td>4.199995e+01</td>\n",
       "      <td>42</td>\n",
       "    </tr>\n",
       "    <tr>\n",
       "      <th>1</th>\n",
       "      <td>365</td>\n",
       "      <td>365Coin</td>\n",
       "      <td>X11</td>\n",
       "      <td>PoW/PoS</td>\n",
       "      <td>NaN</td>\n",
       "      <td>2300000000</td>\n",
       "    </tr>\n",
       "    <tr>\n",
       "      <th>2</th>\n",
       "      <td>404</td>\n",
       "      <td>404Coin</td>\n",
       "      <td>Scrypt</td>\n",
       "      <td>PoW/PoS</td>\n",
       "      <td>1.055185e+09</td>\n",
       "      <td>532000000</td>\n",
       "    </tr>\n",
       "    <tr>\n",
       "      <th>3</th>\n",
       "      <td>611</td>\n",
       "      <td>SixEleven</td>\n",
       "      <td>SHA-256</td>\n",
       "      <td>PoW</td>\n",
       "      <td>NaN</td>\n",
       "      <td>611000</td>\n",
       "    </tr>\n",
       "    <tr>\n",
       "      <th>4</th>\n",
       "      <td>808</td>\n",
       "      <td>808</td>\n",
       "      <td>SHA-256</td>\n",
       "      <td>PoW/PoS</td>\n",
       "      <td>0.000000e+00</td>\n",
       "      <td>0</td>\n",
       "    </tr>\n",
       "  </tbody>\n",
       "</table>\n",
       "</div>"
      ],
      "text/plain": [
       "  Unnamed: 0   CoinName Algorithm ProofType  TotalCoinsMined TotalCoinSupply\n",
       "0         42    42 Coin    Scrypt   PoW/PoS     4.199995e+01              42\n",
       "1        365    365Coin       X11   PoW/PoS              NaN      2300000000\n",
       "2        404    404Coin    Scrypt   PoW/PoS     1.055185e+09       532000000\n",
       "3        611  SixEleven   SHA-256       PoW              NaN          611000\n",
       "4        808        808   SHA-256   PoW/PoS     0.000000e+00               0"
      ]
     },
     "metadata": {},
     "execution_count": 5
    }
   ],
   "metadata": {}
  },
  {
   "cell_type": "markdown",
   "source": [
    "### Remove all rows that have at least one null value"
   ],
   "metadata": {}
  },
  {
   "cell_type": "code",
   "execution_count": 6,
   "source": [
    "working_df = working_df.dropna(how= 'any')\n",
    "working_df.shape"
   ],
   "outputs": [
    {
     "output_type": "execute_result",
     "data": {
      "text/plain": [
       "(685, 6)"
      ]
     },
     "metadata": {},
     "execution_count": 6
    }
   ],
   "metadata": {}
  },
  {
   "cell_type": "markdown",
   "source": [
    "### Filter for mined currencies. Total coins mined should be greater than zero."
   ],
   "metadata": {}
  },
  {
   "cell_type": "code",
   "execution_count": 7,
   "source": [
    "working_df2 = working_df[working_df['TotalCoinsMined'] > 0]\n",
    "working_df2"
   ],
   "outputs": [
    {
     "output_type": "execute_result",
     "data": {
      "text/html": [
       "<div>\n",
       "<style scoped>\n",
       "    .dataframe tbody tr th:only-of-type {\n",
       "        vertical-align: middle;\n",
       "    }\n",
       "\n",
       "    .dataframe tbody tr th {\n",
       "        vertical-align: top;\n",
       "    }\n",
       "\n",
       "    .dataframe thead th {\n",
       "        text-align: right;\n",
       "    }\n",
       "</style>\n",
       "<table border=\"1\" class=\"dataframe\">\n",
       "  <thead>\n",
       "    <tr style=\"text-align: right;\">\n",
       "      <th></th>\n",
       "      <th>Unnamed: 0</th>\n",
       "      <th>CoinName</th>\n",
       "      <th>Algorithm</th>\n",
       "      <th>ProofType</th>\n",
       "      <th>TotalCoinsMined</th>\n",
       "      <th>TotalCoinSupply</th>\n",
       "    </tr>\n",
       "  </thead>\n",
       "  <tbody>\n",
       "    <tr>\n",
       "      <th>0</th>\n",
       "      <td>42</td>\n",
       "      <td>42 Coin</td>\n",
       "      <td>Scrypt</td>\n",
       "      <td>PoW/PoS</td>\n",
       "      <td>4.199995e+01</td>\n",
       "      <td>42</td>\n",
       "    </tr>\n",
       "    <tr>\n",
       "      <th>2</th>\n",
       "      <td>404</td>\n",
       "      <td>404Coin</td>\n",
       "      <td>Scrypt</td>\n",
       "      <td>PoW/PoS</td>\n",
       "      <td>1.055185e+09</td>\n",
       "      <td>532000000</td>\n",
       "    </tr>\n",
       "    <tr>\n",
       "      <th>5</th>\n",
       "      <td>1337</td>\n",
       "      <td>EliteCoin</td>\n",
       "      <td>X13</td>\n",
       "      <td>PoW/PoS</td>\n",
       "      <td>2.927942e+10</td>\n",
       "      <td>314159265359</td>\n",
       "    </tr>\n",
       "    <tr>\n",
       "      <th>7</th>\n",
       "      <td>BTC</td>\n",
       "      <td>Bitcoin</td>\n",
       "      <td>SHA-256</td>\n",
       "      <td>PoW</td>\n",
       "      <td>1.792718e+07</td>\n",
       "      <td>21000000</td>\n",
       "    </tr>\n",
       "    <tr>\n",
       "      <th>8</th>\n",
       "      <td>ETH</td>\n",
       "      <td>Ethereum</td>\n",
       "      <td>Ethash</td>\n",
       "      <td>PoW</td>\n",
       "      <td>1.076842e+08</td>\n",
       "      <td>0</td>\n",
       "    </tr>\n",
       "    <tr>\n",
       "      <th>...</th>\n",
       "      <td>...</td>\n",
       "      <td>...</td>\n",
       "      <td>...</td>\n",
       "      <td>...</td>\n",
       "      <td>...</td>\n",
       "      <td>...</td>\n",
       "    </tr>\n",
       "    <tr>\n",
       "      <th>1238</th>\n",
       "      <td>ZEPH</td>\n",
       "      <td>ZEPHYR</td>\n",
       "      <td>SHA-256</td>\n",
       "      <td>DPoS</td>\n",
       "      <td>2.000000e+09</td>\n",
       "      <td>2000000000</td>\n",
       "    </tr>\n",
       "    <tr>\n",
       "      <th>1242</th>\n",
       "      <td>GAP</td>\n",
       "      <td>Gapcoin</td>\n",
       "      <td>Scrypt</td>\n",
       "      <td>PoW/PoS</td>\n",
       "      <td>1.493105e+07</td>\n",
       "      <td>250000000</td>\n",
       "    </tr>\n",
       "    <tr>\n",
       "      <th>1245</th>\n",
       "      <td>BDX</td>\n",
       "      <td>Beldex</td>\n",
       "      <td>CryptoNight</td>\n",
       "      <td>PoW</td>\n",
       "      <td>9.802226e+08</td>\n",
       "      <td>1400222610</td>\n",
       "    </tr>\n",
       "    <tr>\n",
       "      <th>1246</th>\n",
       "      <td>ZEN</td>\n",
       "      <td>Horizen</td>\n",
       "      <td>Equihash</td>\n",
       "      <td>PoW</td>\n",
       "      <td>7.296538e+06</td>\n",
       "      <td>21000000</td>\n",
       "    </tr>\n",
       "    <tr>\n",
       "      <th>1247</th>\n",
       "      <td>XBC</td>\n",
       "      <td>BitcoinPlus</td>\n",
       "      <td>Scrypt</td>\n",
       "      <td>PoS</td>\n",
       "      <td>1.283270e+05</td>\n",
       "      <td>1000000</td>\n",
       "    </tr>\n",
       "  </tbody>\n",
       "</table>\n",
       "<p>532 rows × 6 columns</p>\n",
       "</div>"
      ],
      "text/plain": [
       "     Unnamed: 0     CoinName    Algorithm ProofType  TotalCoinsMined  \\\n",
       "0            42      42 Coin       Scrypt   PoW/PoS     4.199995e+01   \n",
       "2           404      404Coin       Scrypt   PoW/PoS     1.055185e+09   \n",
       "5          1337    EliteCoin          X13   PoW/PoS     2.927942e+10   \n",
       "7           BTC      Bitcoin      SHA-256       PoW     1.792718e+07   \n",
       "8           ETH     Ethereum       Ethash       PoW     1.076842e+08   \n",
       "...         ...          ...          ...       ...              ...   \n",
       "1238       ZEPH       ZEPHYR      SHA-256      DPoS     2.000000e+09   \n",
       "1242        GAP      Gapcoin       Scrypt   PoW/PoS     1.493105e+07   \n",
       "1245        BDX       Beldex  CryptoNight       PoW     9.802226e+08   \n",
       "1246        ZEN      Horizen     Equihash       PoW     7.296538e+06   \n",
       "1247        XBC  BitcoinPlus       Scrypt       PoS     1.283270e+05   \n",
       "\n",
       "     TotalCoinSupply  \n",
       "0                 42  \n",
       "2          532000000  \n",
       "5       314159265359  \n",
       "7           21000000  \n",
       "8                  0  \n",
       "...              ...  \n",
       "1238      2000000000  \n",
       "1242       250000000  \n",
       "1245      1400222610  \n",
       "1246        21000000  \n",
       "1247         1000000  \n",
       "\n",
       "[532 rows x 6 columns]"
      ]
     },
     "metadata": {},
     "execution_count": 7
    }
   ],
   "metadata": {}
  },
  {
   "cell_type": "markdown",
   "source": [
    "### Delete 'CoinName' from original dataframe.\n",
    "* me Q: do we need to have a way to identify the currencies within the model? "
   ],
   "metadata": {}
  },
  {
   "cell_type": "code",
   "execution_count": 8,
   "source": [
    "labels = working_df2['CoinName']\n",
    "working_df2 = working_df2.drop(columns=['CoinName'])\n",
    "working_df2 = working_df2.set_index('Unnamed: 0')\n",
    "working_df2"
   ],
   "outputs": [
    {
     "output_type": "execute_result",
     "data": {
      "text/html": [
       "<div>\n",
       "<style scoped>\n",
       "    .dataframe tbody tr th:only-of-type {\n",
       "        vertical-align: middle;\n",
       "    }\n",
       "\n",
       "    .dataframe tbody tr th {\n",
       "        vertical-align: top;\n",
       "    }\n",
       "\n",
       "    .dataframe thead th {\n",
       "        text-align: right;\n",
       "    }\n",
       "</style>\n",
       "<table border=\"1\" class=\"dataframe\">\n",
       "  <thead>\n",
       "    <tr style=\"text-align: right;\">\n",
       "      <th></th>\n",
       "      <th>Algorithm</th>\n",
       "      <th>ProofType</th>\n",
       "      <th>TotalCoinsMined</th>\n",
       "      <th>TotalCoinSupply</th>\n",
       "    </tr>\n",
       "    <tr>\n",
       "      <th>Unnamed: 0</th>\n",
       "      <th></th>\n",
       "      <th></th>\n",
       "      <th></th>\n",
       "      <th></th>\n",
       "    </tr>\n",
       "  </thead>\n",
       "  <tbody>\n",
       "    <tr>\n",
       "      <th>42</th>\n",
       "      <td>Scrypt</td>\n",
       "      <td>PoW/PoS</td>\n",
       "      <td>4.199995e+01</td>\n",
       "      <td>42</td>\n",
       "    </tr>\n",
       "    <tr>\n",
       "      <th>404</th>\n",
       "      <td>Scrypt</td>\n",
       "      <td>PoW/PoS</td>\n",
       "      <td>1.055185e+09</td>\n",
       "      <td>532000000</td>\n",
       "    </tr>\n",
       "    <tr>\n",
       "      <th>1337</th>\n",
       "      <td>X13</td>\n",
       "      <td>PoW/PoS</td>\n",
       "      <td>2.927942e+10</td>\n",
       "      <td>314159265359</td>\n",
       "    </tr>\n",
       "    <tr>\n",
       "      <th>BTC</th>\n",
       "      <td>SHA-256</td>\n",
       "      <td>PoW</td>\n",
       "      <td>1.792718e+07</td>\n",
       "      <td>21000000</td>\n",
       "    </tr>\n",
       "    <tr>\n",
       "      <th>ETH</th>\n",
       "      <td>Ethash</td>\n",
       "      <td>PoW</td>\n",
       "      <td>1.076842e+08</td>\n",
       "      <td>0</td>\n",
       "    </tr>\n",
       "    <tr>\n",
       "      <th>...</th>\n",
       "      <td>...</td>\n",
       "      <td>...</td>\n",
       "      <td>...</td>\n",
       "      <td>...</td>\n",
       "    </tr>\n",
       "    <tr>\n",
       "      <th>ZEPH</th>\n",
       "      <td>SHA-256</td>\n",
       "      <td>DPoS</td>\n",
       "      <td>2.000000e+09</td>\n",
       "      <td>2000000000</td>\n",
       "    </tr>\n",
       "    <tr>\n",
       "      <th>GAP</th>\n",
       "      <td>Scrypt</td>\n",
       "      <td>PoW/PoS</td>\n",
       "      <td>1.493105e+07</td>\n",
       "      <td>250000000</td>\n",
       "    </tr>\n",
       "    <tr>\n",
       "      <th>BDX</th>\n",
       "      <td>CryptoNight</td>\n",
       "      <td>PoW</td>\n",
       "      <td>9.802226e+08</td>\n",
       "      <td>1400222610</td>\n",
       "    </tr>\n",
       "    <tr>\n",
       "      <th>ZEN</th>\n",
       "      <td>Equihash</td>\n",
       "      <td>PoW</td>\n",
       "      <td>7.296538e+06</td>\n",
       "      <td>21000000</td>\n",
       "    </tr>\n",
       "    <tr>\n",
       "      <th>XBC</th>\n",
       "      <td>Scrypt</td>\n",
       "      <td>PoS</td>\n",
       "      <td>1.283270e+05</td>\n",
       "      <td>1000000</td>\n",
       "    </tr>\n",
       "  </tbody>\n",
       "</table>\n",
       "<p>532 rows × 4 columns</p>\n",
       "</div>"
      ],
      "text/plain": [
       "              Algorithm ProofType  TotalCoinsMined TotalCoinSupply\n",
       "Unnamed: 0                                                        \n",
       "42               Scrypt   PoW/PoS     4.199995e+01              42\n",
       "404              Scrypt   PoW/PoS     1.055185e+09       532000000\n",
       "1337                X13   PoW/PoS     2.927942e+10    314159265359\n",
       "BTC             SHA-256       PoW     1.792718e+07        21000000\n",
       "ETH              Ethash       PoW     1.076842e+08               0\n",
       "...                 ...       ...              ...             ...\n",
       "ZEPH            SHA-256      DPoS     2.000000e+09      2000000000\n",
       "GAP              Scrypt   PoW/PoS     1.493105e+07       250000000\n",
       "BDX         CryptoNight       PoW     9.802226e+08      1400222610\n",
       "ZEN            Equihash       PoW     7.296538e+06        21000000\n",
       "XBC              Scrypt       PoS     1.283270e+05         1000000\n",
       "\n",
       "[532 rows x 4 columns]"
      ]
     },
     "metadata": {},
     "execution_count": 8
    }
   ],
   "metadata": {}
  },
  {
   "cell_type": "code",
   "execution_count": 9,
   "source": [
    "# determining how many new columns to expect\n",
    "alg_types = working_df2['Algorithm'].nunique()\n",
    "proof_types = working_df2['ProofType'].nunique()\n",
    "\n",
    "print(f'The number of algorithm types are: {alg_types}; the number of ProofTypes are: {proof_types}')"
   ],
   "outputs": [
    {
     "output_type": "stream",
     "name": "stdout",
     "text": [
      "The number of algorithm types are: 71; the number of ProofTypes are: 25\n"
     ]
    }
   ],
   "metadata": {}
  },
  {
   "cell_type": "code",
   "execution_count": 10,
   "source": [
    "# checking values to see if there are any that might be duplicates\n",
    "alg_unique = working_df2['Algorithm'].unique()\n",
    "alg_unique.sort()\n",
    "print(alg_unique)"
   ],
   "outputs": [
    {
     "output_type": "stream",
     "name": "stdout",
     "text": [
      "['1GB AES Pattern Search' '536' 'Argon2d' 'BLAKE256' 'Blake' 'Blake2S'\n",
      " 'Blake2b' 'C11' 'Cloverhash' 'Counterparty' 'CryptoNight'\n",
      " 'CryptoNight Heavy' 'CryptoNight-V7' 'Cryptonight-GPU' 'DPoS' 'Dagger'\n",
      " 'Dagger-Hashimoto' 'ECC 256K1' 'Equihash' 'Equihash+Scrypt' 'Ethash'\n",
      " 'Exosis' 'Green Protocol' 'Groestl' 'HMQ1725' 'HybridScryptHash256'\n",
      " 'IMesh' 'Jump Consistent Hash' 'Keccak' 'Leased POS' 'Lyra2RE'\n",
      " 'Lyra2REv2' 'Lyra2Z' 'M7 POW' 'Multiple' 'NIST5' 'NeoScrypt' 'Ouroboros'\n",
      " 'PHI1612' 'POS 2.0' 'POS 3.0' 'PoS' 'Proof-of-Authority'\n",
      " 'Proof-of-BibleHash' 'QUAIT' 'QuBit' 'Quark' 'SHA-256' 'SHA-256 + Hive'\n",
      " 'SHA-256D' 'SHA-512' 'SHA3' 'Scrypt' 'Semux BFT consensus' 'Shabal256'\n",
      " 'Skein' 'SkunkHash' 'SkunkHash v2 Raptor' 'Stanford Folding' 'TRC10'\n",
      " 'Time Travel' 'Tribus' 'VBFT' 'VeChainThor Authority' 'X11' 'X11GOST'\n",
      " 'X13' 'X14' 'X15' 'X16R' 'XEVAN']\n"
     ]
    }
   ],
   "metadata": {}
  },
  {
   "cell_type": "code",
   "execution_count": 11,
   "source": [
    "proof_unique = working_df2['ProofType'].unique()\n",
    "proof_unique.sort()\n",
    "print(proof_unique)"
   ],
   "outputs": [
    {
     "output_type": "stream",
     "name": "stdout",
     "text": [
      "['DPOS' 'DPoS' 'HPoW' 'LPoS' 'POBh' 'PoA' 'PoC' 'PoS' 'PoS/LPoS' 'PoS/PoW'\n",
      " 'PoS/PoW/PoT' 'PoST' 'PoW' 'PoW + Hive' 'PoW and PoS' 'PoW/PoS'\n",
      " 'PoW/PoS ' 'PoW/PoW' 'PoW/nPoS' 'Pos' 'Proof of Authority'\n",
      " 'Proof of Trust' 'TPoS' 'Zero-Knowledge Proof' 'dPoW/PoW']\n"
     ]
    }
   ],
   "metadata": {}
  },
  {
   "cell_type": "code",
   "execution_count": 12,
   "source": [
    "# converting items to lowercase so certain values that seem to stand for the same thing \n",
    "# will group; eg. DPOS & DPos, PoS & Pos \n",
    "working_df2['ProofType'] = working_df2['ProofType'].str.lower()\n",
    "proof_unique2 = working_df2['ProofType'].unique()\n",
    "proof_unique2.sort()\n",
    "print(proof_unique2)"
   ],
   "outputs": [
    {
     "output_type": "stream",
     "name": "stdout",
     "text": [
      "['dpos' 'dpow/pow' 'hpow' 'lpos' 'poa' 'pobh' 'poc' 'pos' 'pos/lpos'\n",
      " 'pos/pow' 'pos/pow/pot' 'post' 'pow' 'pow + hive' 'pow and pos'\n",
      " 'pow/npos' 'pow/pos' 'pow/pos ' 'pow/pow' 'proof of authority'\n",
      " 'proof of trust' 'tpos' 'zero-knowledge proof']\n"
     ]
    }
   ],
   "metadata": {}
  },
  {
   "cell_type": "code",
   "execution_count": 13,
   "source": [
    "working_df3 = working_df2"
   ],
   "outputs": [],
   "metadata": {}
  },
  {
   "cell_type": "code",
   "execution_count": 14,
   "source": [
    "# changing \"proof of authority\" to \"poa\" because they mean the same thing & should thus be treated as the same in the model\n",
    "working_df3['ProofType'] = working_df3['ProofType'].replace({'proof of authority': \"poa\"})\n",
    "proof_unique3 = working_df3['ProofType'].unique()\n",
    "len(proof_unique3)"
   ],
   "outputs": [
    {
     "output_type": "execute_result",
     "data": {
      "text/plain": [
       "22"
      ]
     },
     "metadata": {},
     "execution_count": 14
    }
   ],
   "metadata": {}
  },
  {
   "cell_type": "markdown",
   "source": [
    "### Convert remaining features w text values (i.e., 'Algorithm' & 'Prooftype') into numeric\n",
    "* use pandas to create dummy variables"
   ],
   "metadata": {}
  },
  {
   "cell_type": "code",
   "execution_count": 15,
   "source": [
    "dummy_df = pd.get_dummies(working_df3, columns=['ProofType', 'Algorithm'])"
   ],
   "outputs": [],
   "metadata": {}
  },
  {
   "cell_type": "code",
   "execution_count": 16,
   "source": [
    "dummy_df"
   ],
   "outputs": [
    {
     "output_type": "execute_result",
     "data": {
      "text/html": [
       "<div>\n",
       "<style scoped>\n",
       "    .dataframe tbody tr th:only-of-type {\n",
       "        vertical-align: middle;\n",
       "    }\n",
       "\n",
       "    .dataframe tbody tr th {\n",
       "        vertical-align: top;\n",
       "    }\n",
       "\n",
       "    .dataframe thead th {\n",
       "        text-align: right;\n",
       "    }\n",
       "</style>\n",
       "<table border=\"1\" class=\"dataframe\">\n",
       "  <thead>\n",
       "    <tr style=\"text-align: right;\">\n",
       "      <th></th>\n",
       "      <th>TotalCoinsMined</th>\n",
       "      <th>TotalCoinSupply</th>\n",
       "      <th>ProofType_dpos</th>\n",
       "      <th>ProofType_dpow/pow</th>\n",
       "      <th>ProofType_hpow</th>\n",
       "      <th>ProofType_lpos</th>\n",
       "      <th>ProofType_poa</th>\n",
       "      <th>ProofType_pobh</th>\n",
       "      <th>ProofType_poc</th>\n",
       "      <th>ProofType_pos</th>\n",
       "      <th>...</th>\n",
       "      <th>Algorithm_Tribus</th>\n",
       "      <th>Algorithm_VBFT</th>\n",
       "      <th>Algorithm_VeChainThor Authority</th>\n",
       "      <th>Algorithm_X11</th>\n",
       "      <th>Algorithm_X11GOST</th>\n",
       "      <th>Algorithm_X13</th>\n",
       "      <th>Algorithm_X14</th>\n",
       "      <th>Algorithm_X15</th>\n",
       "      <th>Algorithm_X16R</th>\n",
       "      <th>Algorithm_XEVAN</th>\n",
       "    </tr>\n",
       "    <tr>\n",
       "      <th>Unnamed: 0</th>\n",
       "      <th></th>\n",
       "      <th></th>\n",
       "      <th></th>\n",
       "      <th></th>\n",
       "      <th></th>\n",
       "      <th></th>\n",
       "      <th></th>\n",
       "      <th></th>\n",
       "      <th></th>\n",
       "      <th></th>\n",
       "      <th></th>\n",
       "      <th></th>\n",
       "      <th></th>\n",
       "      <th></th>\n",
       "      <th></th>\n",
       "      <th></th>\n",
       "      <th></th>\n",
       "      <th></th>\n",
       "      <th></th>\n",
       "      <th></th>\n",
       "      <th></th>\n",
       "    </tr>\n",
       "  </thead>\n",
       "  <tbody>\n",
       "    <tr>\n",
       "      <th>42</th>\n",
       "      <td>4.199995e+01</td>\n",
       "      <td>42</td>\n",
       "      <td>0</td>\n",
       "      <td>0</td>\n",
       "      <td>0</td>\n",
       "      <td>0</td>\n",
       "      <td>0</td>\n",
       "      <td>0</td>\n",
       "      <td>0</td>\n",
       "      <td>0</td>\n",
       "      <td>...</td>\n",
       "      <td>0</td>\n",
       "      <td>0</td>\n",
       "      <td>0</td>\n",
       "      <td>0</td>\n",
       "      <td>0</td>\n",
       "      <td>0</td>\n",
       "      <td>0</td>\n",
       "      <td>0</td>\n",
       "      <td>0</td>\n",
       "      <td>0</td>\n",
       "    </tr>\n",
       "    <tr>\n",
       "      <th>404</th>\n",
       "      <td>1.055185e+09</td>\n",
       "      <td>532000000</td>\n",
       "      <td>0</td>\n",
       "      <td>0</td>\n",
       "      <td>0</td>\n",
       "      <td>0</td>\n",
       "      <td>0</td>\n",
       "      <td>0</td>\n",
       "      <td>0</td>\n",
       "      <td>0</td>\n",
       "      <td>...</td>\n",
       "      <td>0</td>\n",
       "      <td>0</td>\n",
       "      <td>0</td>\n",
       "      <td>0</td>\n",
       "      <td>0</td>\n",
       "      <td>0</td>\n",
       "      <td>0</td>\n",
       "      <td>0</td>\n",
       "      <td>0</td>\n",
       "      <td>0</td>\n",
       "    </tr>\n",
       "    <tr>\n",
       "      <th>1337</th>\n",
       "      <td>2.927942e+10</td>\n",
       "      <td>314159265359</td>\n",
       "      <td>0</td>\n",
       "      <td>0</td>\n",
       "      <td>0</td>\n",
       "      <td>0</td>\n",
       "      <td>0</td>\n",
       "      <td>0</td>\n",
       "      <td>0</td>\n",
       "      <td>0</td>\n",
       "      <td>...</td>\n",
       "      <td>0</td>\n",
       "      <td>0</td>\n",
       "      <td>0</td>\n",
       "      <td>0</td>\n",
       "      <td>0</td>\n",
       "      <td>1</td>\n",
       "      <td>0</td>\n",
       "      <td>0</td>\n",
       "      <td>0</td>\n",
       "      <td>0</td>\n",
       "    </tr>\n",
       "    <tr>\n",
       "      <th>BTC</th>\n",
       "      <td>1.792718e+07</td>\n",
       "      <td>21000000</td>\n",
       "      <td>0</td>\n",
       "      <td>0</td>\n",
       "      <td>0</td>\n",
       "      <td>0</td>\n",
       "      <td>0</td>\n",
       "      <td>0</td>\n",
       "      <td>0</td>\n",
       "      <td>0</td>\n",
       "      <td>...</td>\n",
       "      <td>0</td>\n",
       "      <td>0</td>\n",
       "      <td>0</td>\n",
       "      <td>0</td>\n",
       "      <td>0</td>\n",
       "      <td>0</td>\n",
       "      <td>0</td>\n",
       "      <td>0</td>\n",
       "      <td>0</td>\n",
       "      <td>0</td>\n",
       "    </tr>\n",
       "    <tr>\n",
       "      <th>ETH</th>\n",
       "      <td>1.076842e+08</td>\n",
       "      <td>0</td>\n",
       "      <td>0</td>\n",
       "      <td>0</td>\n",
       "      <td>0</td>\n",
       "      <td>0</td>\n",
       "      <td>0</td>\n",
       "      <td>0</td>\n",
       "      <td>0</td>\n",
       "      <td>0</td>\n",
       "      <td>...</td>\n",
       "      <td>0</td>\n",
       "      <td>0</td>\n",
       "      <td>0</td>\n",
       "      <td>0</td>\n",
       "      <td>0</td>\n",
       "      <td>0</td>\n",
       "      <td>0</td>\n",
       "      <td>0</td>\n",
       "      <td>0</td>\n",
       "      <td>0</td>\n",
       "    </tr>\n",
       "    <tr>\n",
       "      <th>...</th>\n",
       "      <td>...</td>\n",
       "      <td>...</td>\n",
       "      <td>...</td>\n",
       "      <td>...</td>\n",
       "      <td>...</td>\n",
       "      <td>...</td>\n",
       "      <td>...</td>\n",
       "      <td>...</td>\n",
       "      <td>...</td>\n",
       "      <td>...</td>\n",
       "      <td>...</td>\n",
       "      <td>...</td>\n",
       "      <td>...</td>\n",
       "      <td>...</td>\n",
       "      <td>...</td>\n",
       "      <td>...</td>\n",
       "      <td>...</td>\n",
       "      <td>...</td>\n",
       "      <td>...</td>\n",
       "      <td>...</td>\n",
       "      <td>...</td>\n",
       "    </tr>\n",
       "    <tr>\n",
       "      <th>ZEPH</th>\n",
       "      <td>2.000000e+09</td>\n",
       "      <td>2000000000</td>\n",
       "      <td>1</td>\n",
       "      <td>0</td>\n",
       "      <td>0</td>\n",
       "      <td>0</td>\n",
       "      <td>0</td>\n",
       "      <td>0</td>\n",
       "      <td>0</td>\n",
       "      <td>0</td>\n",
       "      <td>...</td>\n",
       "      <td>0</td>\n",
       "      <td>0</td>\n",
       "      <td>0</td>\n",
       "      <td>0</td>\n",
       "      <td>0</td>\n",
       "      <td>0</td>\n",
       "      <td>0</td>\n",
       "      <td>0</td>\n",
       "      <td>0</td>\n",
       "      <td>0</td>\n",
       "    </tr>\n",
       "    <tr>\n",
       "      <th>GAP</th>\n",
       "      <td>1.493105e+07</td>\n",
       "      <td>250000000</td>\n",
       "      <td>0</td>\n",
       "      <td>0</td>\n",
       "      <td>0</td>\n",
       "      <td>0</td>\n",
       "      <td>0</td>\n",
       "      <td>0</td>\n",
       "      <td>0</td>\n",
       "      <td>0</td>\n",
       "      <td>...</td>\n",
       "      <td>0</td>\n",
       "      <td>0</td>\n",
       "      <td>0</td>\n",
       "      <td>0</td>\n",
       "      <td>0</td>\n",
       "      <td>0</td>\n",
       "      <td>0</td>\n",
       "      <td>0</td>\n",
       "      <td>0</td>\n",
       "      <td>0</td>\n",
       "    </tr>\n",
       "    <tr>\n",
       "      <th>BDX</th>\n",
       "      <td>9.802226e+08</td>\n",
       "      <td>1400222610</td>\n",
       "      <td>0</td>\n",
       "      <td>0</td>\n",
       "      <td>0</td>\n",
       "      <td>0</td>\n",
       "      <td>0</td>\n",
       "      <td>0</td>\n",
       "      <td>0</td>\n",
       "      <td>0</td>\n",
       "      <td>...</td>\n",
       "      <td>0</td>\n",
       "      <td>0</td>\n",
       "      <td>0</td>\n",
       "      <td>0</td>\n",
       "      <td>0</td>\n",
       "      <td>0</td>\n",
       "      <td>0</td>\n",
       "      <td>0</td>\n",
       "      <td>0</td>\n",
       "      <td>0</td>\n",
       "    </tr>\n",
       "    <tr>\n",
       "      <th>ZEN</th>\n",
       "      <td>7.296538e+06</td>\n",
       "      <td>21000000</td>\n",
       "      <td>0</td>\n",
       "      <td>0</td>\n",
       "      <td>0</td>\n",
       "      <td>0</td>\n",
       "      <td>0</td>\n",
       "      <td>0</td>\n",
       "      <td>0</td>\n",
       "      <td>0</td>\n",
       "      <td>...</td>\n",
       "      <td>0</td>\n",
       "      <td>0</td>\n",
       "      <td>0</td>\n",
       "      <td>0</td>\n",
       "      <td>0</td>\n",
       "      <td>0</td>\n",
       "      <td>0</td>\n",
       "      <td>0</td>\n",
       "      <td>0</td>\n",
       "      <td>0</td>\n",
       "    </tr>\n",
       "    <tr>\n",
       "      <th>XBC</th>\n",
       "      <td>1.283270e+05</td>\n",
       "      <td>1000000</td>\n",
       "      <td>0</td>\n",
       "      <td>0</td>\n",
       "      <td>0</td>\n",
       "      <td>0</td>\n",
       "      <td>0</td>\n",
       "      <td>0</td>\n",
       "      <td>0</td>\n",
       "      <td>1</td>\n",
       "      <td>...</td>\n",
       "      <td>0</td>\n",
       "      <td>0</td>\n",
       "      <td>0</td>\n",
       "      <td>0</td>\n",
       "      <td>0</td>\n",
       "      <td>0</td>\n",
       "      <td>0</td>\n",
       "      <td>0</td>\n",
       "      <td>0</td>\n",
       "      <td>0</td>\n",
       "    </tr>\n",
       "  </tbody>\n",
       "</table>\n",
       "<p>532 rows × 95 columns</p>\n",
       "</div>"
      ],
      "text/plain": [
       "            TotalCoinsMined TotalCoinSupply  ProofType_dpos  \\\n",
       "Unnamed: 0                                                    \n",
       "42             4.199995e+01              42               0   \n",
       "404            1.055185e+09       532000000               0   \n",
       "1337           2.927942e+10    314159265359               0   \n",
       "BTC            1.792718e+07        21000000               0   \n",
       "ETH            1.076842e+08               0               0   \n",
       "...                     ...             ...             ...   \n",
       "ZEPH           2.000000e+09      2000000000               1   \n",
       "GAP            1.493105e+07       250000000               0   \n",
       "BDX            9.802226e+08      1400222610               0   \n",
       "ZEN            7.296538e+06        21000000               0   \n",
       "XBC            1.283270e+05         1000000               0   \n",
       "\n",
       "            ProofType_dpow/pow  ProofType_hpow  ProofType_lpos  ProofType_poa  \\\n",
       "Unnamed: 0                                                                      \n",
       "42                           0               0               0              0   \n",
       "404                          0               0               0              0   \n",
       "1337                         0               0               0              0   \n",
       "BTC                          0               0               0              0   \n",
       "ETH                          0               0               0              0   \n",
       "...                        ...             ...             ...            ...   \n",
       "ZEPH                         0               0               0              0   \n",
       "GAP                          0               0               0              0   \n",
       "BDX                          0               0               0              0   \n",
       "ZEN                          0               0               0              0   \n",
       "XBC                          0               0               0              0   \n",
       "\n",
       "            ProofType_pobh  ProofType_poc  ProofType_pos  ...  \\\n",
       "Unnamed: 0                                                ...   \n",
       "42                       0              0              0  ...   \n",
       "404                      0              0              0  ...   \n",
       "1337                     0              0              0  ...   \n",
       "BTC                      0              0              0  ...   \n",
       "ETH                      0              0              0  ...   \n",
       "...                    ...            ...            ...  ...   \n",
       "ZEPH                     0              0              0  ...   \n",
       "GAP                      0              0              0  ...   \n",
       "BDX                      0              0              0  ...   \n",
       "ZEN                      0              0              0  ...   \n",
       "XBC                      0              0              1  ...   \n",
       "\n",
       "            Algorithm_Tribus  Algorithm_VBFT  Algorithm_VeChainThor Authority  \\\n",
       "Unnamed: 0                                                                      \n",
       "42                         0               0                                0   \n",
       "404                        0               0                                0   \n",
       "1337                       0               0                                0   \n",
       "BTC                        0               0                                0   \n",
       "ETH                        0               0                                0   \n",
       "...                      ...             ...                              ...   \n",
       "ZEPH                       0               0                                0   \n",
       "GAP                        0               0                                0   \n",
       "BDX                        0               0                                0   \n",
       "ZEN                        0               0                                0   \n",
       "XBC                        0               0                                0   \n",
       "\n",
       "            Algorithm_X11  Algorithm_X11GOST  Algorithm_X13  Algorithm_X14  \\\n",
       "Unnamed: 0                                                                   \n",
       "42                      0                  0              0              0   \n",
       "404                     0                  0              0              0   \n",
       "1337                    0                  0              1              0   \n",
       "BTC                     0                  0              0              0   \n",
       "ETH                     0                  0              0              0   \n",
       "...                   ...                ...            ...            ...   \n",
       "ZEPH                    0                  0              0              0   \n",
       "GAP                     0                  0              0              0   \n",
       "BDX                     0                  0              0              0   \n",
       "ZEN                     0                  0              0              0   \n",
       "XBC                     0                  0              0              0   \n",
       "\n",
       "            Algorithm_X15  Algorithm_X16R  Algorithm_XEVAN  \n",
       "Unnamed: 0                                                  \n",
       "42                      0               0                0  \n",
       "404                     0               0                0  \n",
       "1337                    0               0                0  \n",
       "BTC                     0               0                0  \n",
       "ETH                     0               0                0  \n",
       "...                   ...             ...              ...  \n",
       "ZEPH                    0               0                0  \n",
       "GAP                     0               0                0  \n",
       "BDX                     0               0                0  \n",
       "ZEN                     0               0                0  \n",
       "XBC                     0               0                0  \n",
       "\n",
       "[532 rows x 95 columns]"
      ]
     },
     "metadata": {},
     "execution_count": 16
    }
   ],
   "metadata": {}
  },
  {
   "cell_type": "code",
   "execution_count": 17,
   "source": [
    "dummy_df.columns"
   ],
   "outputs": [
    {
     "output_type": "execute_result",
     "data": {
      "text/plain": [
       "Index(['TotalCoinsMined', 'TotalCoinSupply', 'ProofType_dpos',\n",
       "       'ProofType_dpow/pow', 'ProofType_hpow', 'ProofType_lpos',\n",
       "       'ProofType_poa', 'ProofType_pobh', 'ProofType_poc', 'ProofType_pos',\n",
       "       'ProofType_pos/lpos', 'ProofType_pos/pow', 'ProofType_pos/pow/pot',\n",
       "       'ProofType_post', 'ProofType_pow', 'ProofType_pow + hive',\n",
       "       'ProofType_pow and pos', 'ProofType_pow/npos', 'ProofType_pow/pos',\n",
       "       'ProofType_pow/pos ', 'ProofType_pow/pow', 'ProofType_proof of trust',\n",
       "       'ProofType_tpos', 'ProofType_zero-knowledge proof',\n",
       "       'Algorithm_1GB AES Pattern Search', 'Algorithm_536',\n",
       "       'Algorithm_Argon2d', 'Algorithm_BLAKE256', 'Algorithm_Blake',\n",
       "       'Algorithm_Blake2S', 'Algorithm_Blake2b', 'Algorithm_C11',\n",
       "       'Algorithm_Cloverhash', 'Algorithm_Counterparty',\n",
       "       'Algorithm_CryptoNight', 'Algorithm_CryptoNight Heavy',\n",
       "       'Algorithm_CryptoNight-V7', 'Algorithm_Cryptonight-GPU',\n",
       "       'Algorithm_DPoS', 'Algorithm_Dagger', 'Algorithm_Dagger-Hashimoto',\n",
       "       'Algorithm_ECC 256K1', 'Algorithm_Equihash',\n",
       "       'Algorithm_Equihash+Scrypt', 'Algorithm_Ethash', 'Algorithm_Exosis',\n",
       "       'Algorithm_Green Protocol', 'Algorithm_Groestl', 'Algorithm_HMQ1725',\n",
       "       'Algorithm_HybridScryptHash256', 'Algorithm_IMesh',\n",
       "       'Algorithm_Jump Consistent Hash', 'Algorithm_Keccak',\n",
       "       'Algorithm_Leased POS', 'Algorithm_Lyra2RE', 'Algorithm_Lyra2REv2',\n",
       "       'Algorithm_Lyra2Z', 'Algorithm_M7 POW', 'Algorithm_Multiple',\n",
       "       'Algorithm_NIST5', 'Algorithm_NeoScrypt', 'Algorithm_Ouroboros',\n",
       "       'Algorithm_PHI1612', 'Algorithm_POS 2.0', 'Algorithm_POS 3.0',\n",
       "       'Algorithm_PoS', 'Algorithm_Proof-of-Authority',\n",
       "       'Algorithm_Proof-of-BibleHash', 'Algorithm_QUAIT', 'Algorithm_QuBit',\n",
       "       'Algorithm_Quark', 'Algorithm_SHA-256', 'Algorithm_SHA-256 + Hive',\n",
       "       'Algorithm_SHA-256D', 'Algorithm_SHA-512', 'Algorithm_SHA3',\n",
       "       'Algorithm_Scrypt', 'Algorithm_Semux BFT consensus',\n",
       "       'Algorithm_Shabal256', 'Algorithm_Skein', 'Algorithm_SkunkHash',\n",
       "       'Algorithm_SkunkHash v2 Raptor', 'Algorithm_Stanford Folding',\n",
       "       'Algorithm_TRC10', 'Algorithm_Time Travel', 'Algorithm_Tribus',\n",
       "       'Algorithm_VBFT', 'Algorithm_VeChainThor Authority', 'Algorithm_X11',\n",
       "       'Algorithm_X11GOST', 'Algorithm_X13', 'Algorithm_X14', 'Algorithm_X15',\n",
       "       'Algorithm_X16R', 'Algorithm_XEVAN'],\n",
       "      dtype='object')"
      ]
     },
     "metadata": {},
     "execution_count": 17
    }
   ],
   "metadata": {}
  },
  {
   "cell_type": "markdown",
   "source": [
    "### Examine number of rows & columns in dataset... \n",
    "Q: How did they change?\n",
    "* A: The number of rows remained the same & the number of columns is equal to the number of columns that remain unchanged (i.e., 3) plus a column for each of the 71 algorithm types plus a column for each of the 22 proof types."
   ],
   "metadata": {}
  },
  {
   "cell_type": "code",
   "execution_count": 18,
   "source": [
    "crypto_df = dummy_df"
   ],
   "outputs": [],
   "metadata": {}
  },
  {
   "cell_type": "markdown",
   "source": [
    "### Standardize dataset so columns with larger values do not unduly influence the outcome"
   ],
   "metadata": {}
  },
  {
   "cell_type": "code",
   "execution_count": 19,
   "source": [
    "from sklearn.preprocessing import StandardScaler\n",
    "from sklearn.decomposition import PCA\n",
    "from sklearn.cluster import KMeans"
   ],
   "outputs": [],
   "metadata": {}
  },
  {
   "cell_type": "code",
   "execution_count": 21,
   "source": [
    "scaler = StandardScaler().fit(crypto_df)\n",
    "crypto_scaled = scaler.transform(crypto_df)\n",
    "crypto_scaled"
   ],
   "outputs": [
    {
     "output_type": "execute_result",
     "data": {
      "text/plain": [
       "array([[-0.11710817, -0.1528703 , -0.13840913, ..., -0.08703883,\n",
       "        -0.08703883, -0.10680283],\n",
       "       [-0.09396955, -0.145009  , -0.13840913, ..., -0.08703883,\n",
       "        -0.08703883, -0.10680283],\n",
       "       [ 0.52494561,  4.48942416, -0.13840913, ..., -0.08703883,\n",
       "        -0.08703883, -0.10680283],\n",
       "       ...,\n",
       "       [-0.09561336, -0.13217937, -0.13840913, ..., -0.08703883,\n",
       "        -0.08703883, -0.10680283],\n",
       "       [-0.11694817, -0.15255998, -0.13840913, ..., -0.08703883,\n",
       "        -0.08703883, -0.10680283],\n",
       "       [-0.11710536, -0.15285552, -0.13840913, ..., -0.08703883,\n",
       "        -0.08703883, -0.10680283]])"
      ]
     },
     "metadata": {},
     "execution_count": 21
    }
   ],
   "metadata": {}
  },
  {
   "cell_type": "markdown",
   "source": [
    "## Dimensionality Reduction"
   ],
   "metadata": {}
  },
  {
   "cell_type": "markdown",
   "source": [
    "### Perform dimensional reduction with PCA.\n",
    "* use explained variance set to 90%\n",
    "* 'PCA(n_components=0.90)'"
   ],
   "metadata": {}
  },
  {
   "cell_type": "code",
   "execution_count": 22,
   "source": [
    "# initialize PCA model\n",
    "pca = PCA(n_components=.90)\n",
    "\n",
    "crypto_pca = pca.fit_transform(crypto_scaled)"
   ],
   "outputs": [],
   "metadata": {}
  },
  {
   "cell_type": "code",
   "execution_count": 23,
   "source": [
    "crypto_pca.shape"
   ],
   "outputs": [
    {
     "output_type": "execute_result",
     "data": {
      "text/plain": [
       "(532, 74)"
      ]
     },
     "metadata": {},
     "execution_count": 23
    }
   ],
   "metadata": {}
  },
  {
   "cell_type": "markdown",
   "source": [
    "#### Q: How did number of features change after reduction?\n",
    "* A: the number of columns in the data reduced from 95 to 74"
   ],
   "metadata": {}
  },
  {
   "cell_type": "markdown",
   "source": [
    "### Further reduce dataset with t-SNE & visually inspect results\n",
    "* run t-SNE on the output from the PCA transformation\n",
    "* create scatterplot of t-SNE output\n"
   ],
   "metadata": {}
  },
  {
   "cell_type": "code",
   "execution_count": 24,
   "source": [
    "from sklearn.manifold import TSNE\n",
    "# Initialize t-SNE model\n",
    "tsne = TSNE()"
   ],
   "outputs": [],
   "metadata": {}
  },
  {
   "cell_type": "code",
   "execution_count": 25,
   "source": [
    "type(crypto_pca)"
   ],
   "outputs": [
    {
     "output_type": "execute_result",
     "data": {
      "text/plain": [
       "numpy.ndarray"
      ]
     },
     "metadata": {},
     "execution_count": 25
    }
   ],
   "metadata": {}
  },
  {
   "cell_type": "code",
   "execution_count": 26,
   "source": [
    "# Create a new dataframe for t-SNE\n",
    "crypto_pca_df=pd.DataFrame(crypto_pca)\n",
    "crypto_pca_df.head()"
   ],
   "outputs": [
    {
     "output_type": "execute_result",
     "data": {
      "text/html": [
       "<div>\n",
       "<style scoped>\n",
       "    .dataframe tbody tr th:only-of-type {\n",
       "        vertical-align: middle;\n",
       "    }\n",
       "\n",
       "    .dataframe tbody tr th {\n",
       "        vertical-align: top;\n",
       "    }\n",
       "\n",
       "    .dataframe thead th {\n",
       "        text-align: right;\n",
       "    }\n",
       "</style>\n",
       "<table border=\"1\" class=\"dataframe\">\n",
       "  <thead>\n",
       "    <tr style=\"text-align: right;\">\n",
       "      <th></th>\n",
       "      <th>0</th>\n",
       "      <th>1</th>\n",
       "      <th>2</th>\n",
       "      <th>3</th>\n",
       "      <th>4</th>\n",
       "      <th>5</th>\n",
       "      <th>6</th>\n",
       "      <th>7</th>\n",
       "      <th>8</th>\n",
       "      <th>9</th>\n",
       "      <th>...</th>\n",
       "      <th>64</th>\n",
       "      <th>65</th>\n",
       "      <th>66</th>\n",
       "      <th>67</th>\n",
       "      <th>68</th>\n",
       "      <th>69</th>\n",
       "      <th>70</th>\n",
       "      <th>71</th>\n",
       "      <th>72</th>\n",
       "      <th>73</th>\n",
       "    </tr>\n",
       "  </thead>\n",
       "  <tbody>\n",
       "    <tr>\n",
       "      <th>0</th>\n",
       "      <td>-0.342323</td>\n",
       "      <td>1.034475</td>\n",
       "      <td>-0.520879</td>\n",
       "      <td>0.052086</td>\n",
       "      <td>-0.000768</td>\n",
       "      <td>0.002623</td>\n",
       "      <td>-1.333540</td>\n",
       "      <td>0.202799</td>\n",
       "      <td>-0.349157</td>\n",
       "      <td>0.131220</td>\n",
       "      <td>...</td>\n",
       "      <td>-1.282256e-15</td>\n",
       "      <td>1.992159e-16</td>\n",
       "      <td>2.492241e-16</td>\n",
       "      <td>-5.203473e-15</td>\n",
       "      <td>-1.360508e-15</td>\n",
       "      <td>3.076252e-15</td>\n",
       "      <td>3.211965e-15</td>\n",
       "      <td>1.745684e-17</td>\n",
       "      <td>-3.198628e-15</td>\n",
       "      <td>-2.100295e-15</td>\n",
       "    </tr>\n",
       "    <tr>\n",
       "      <th>1</th>\n",
       "      <td>-0.325591</td>\n",
       "      <td>1.034557</td>\n",
       "      <td>-0.521428</td>\n",
       "      <td>0.051773</td>\n",
       "      <td>-0.000759</td>\n",
       "      <td>0.002581</td>\n",
       "      <td>-1.336872</td>\n",
       "      <td>0.197443</td>\n",
       "      <td>-0.347932</td>\n",
       "      <td>0.130875</td>\n",
       "      <td>...</td>\n",
       "      <td>-9.430261e-16</td>\n",
       "      <td>-2.205539e-15</td>\n",
       "      <td>7.955956e-16</td>\n",
       "      <td>-4.886299e-15</td>\n",
       "      <td>-1.451678e-15</td>\n",
       "      <td>3.747402e-15</td>\n",
       "      <td>4.238883e-15</td>\n",
       "      <td>1.463913e-15</td>\n",
       "      <td>-2.967619e-15</td>\n",
       "      <td>-3.674554e-16</td>\n",
       "    </tr>\n",
       "    <tr>\n",
       "      <th>2</th>\n",
       "      <td>2.310119</td>\n",
       "      <td>1.650785</td>\n",
       "      <td>-0.619065</td>\n",
       "      <td>0.031683</td>\n",
       "      <td>-0.001667</td>\n",
       "      <td>0.002776</td>\n",
       "      <td>-1.669221</td>\n",
       "      <td>-0.863111</td>\n",
       "      <td>-0.022780</td>\n",
       "      <td>-0.554565</td>\n",
       "      <td>...</td>\n",
       "      <td>5.081478e-15</td>\n",
       "      <td>-7.481625e-15</td>\n",
       "      <td>4.624862e-14</td>\n",
       "      <td>6.576605e-14</td>\n",
       "      <td>2.284935e-15</td>\n",
       "      <td>-4.317931e-14</td>\n",
       "      <td>3.352761e-15</td>\n",
       "      <td>-4.863180e-16</td>\n",
       "      <td>3.675596e-14</td>\n",
       "      <td>3.201220e-15</td>\n",
       "    </tr>\n",
       "    <tr>\n",
       "      <th>3</th>\n",
       "      <td>-0.149169</td>\n",
       "      <td>-1.321522</td>\n",
       "      <td>0.168593</td>\n",
       "      <td>-0.018061</td>\n",
       "      <td>0.000577</td>\n",
       "      <td>-0.001680</td>\n",
       "      <td>0.308293</td>\n",
       "      <td>0.219733</td>\n",
       "      <td>0.026993</td>\n",
       "      <td>-0.226559</td>\n",
       "      <td>...</td>\n",
       "      <td>3.566559e-17</td>\n",
       "      <td>2.147363e-15</td>\n",
       "      <td>1.074652e-14</td>\n",
       "      <td>8.922547e-15</td>\n",
       "      <td>1.857989e-15</td>\n",
       "      <td>-1.680228e-14</td>\n",
       "      <td>-1.831565e-15</td>\n",
       "      <td>-2.246563e-16</td>\n",
       "      <td>4.222655e-15</td>\n",
       "      <td>-4.773202e-16</td>\n",
       "    </tr>\n",
       "    <tr>\n",
       "      <th>4</th>\n",
       "      <td>-0.152480</td>\n",
       "      <td>-2.038567</td>\n",
       "      <td>0.353878</td>\n",
       "      <td>-0.019078</td>\n",
       "      <td>0.000596</td>\n",
       "      <td>-0.000955</td>\n",
       "      <td>0.549344</td>\n",
       "      <td>0.099204</td>\n",
       "      <td>0.146163</td>\n",
       "      <td>-0.111391</td>\n",
       "      <td>...</td>\n",
       "      <td>-5.784288e-14</td>\n",
       "      <td>-2.382376e-14</td>\n",
       "      <td>1.695893e-14</td>\n",
       "      <td>4.673903e-14</td>\n",
       "      <td>-7.996358e-14</td>\n",
       "      <td>5.734540e-15</td>\n",
       "      <td>-2.866697e-14</td>\n",
       "      <td>3.731680e-14</td>\n",
       "      <td>-1.078019e-13</td>\n",
       "      <td>-8.300284e-14</td>\n",
       "    </tr>\n",
       "  </tbody>\n",
       "</table>\n",
       "<p>5 rows × 74 columns</p>\n",
       "</div>"
      ],
      "text/plain": [
       "         0         1         2         3         4         5         6   \\\n",
       "0 -0.342323  1.034475 -0.520879  0.052086 -0.000768  0.002623 -1.333540   \n",
       "1 -0.325591  1.034557 -0.521428  0.051773 -0.000759  0.002581 -1.336872   \n",
       "2  2.310119  1.650785 -0.619065  0.031683 -0.001667  0.002776 -1.669221   \n",
       "3 -0.149169 -1.321522  0.168593 -0.018061  0.000577 -0.001680  0.308293   \n",
       "4 -0.152480 -2.038567  0.353878 -0.019078  0.000596 -0.000955  0.549344   \n",
       "\n",
       "         7         8         9   ...            64            65  \\\n",
       "0  0.202799 -0.349157  0.131220  ... -1.282256e-15  1.992159e-16   \n",
       "1  0.197443 -0.347932  0.130875  ... -9.430261e-16 -2.205539e-15   \n",
       "2 -0.863111 -0.022780 -0.554565  ...  5.081478e-15 -7.481625e-15   \n",
       "3  0.219733  0.026993 -0.226559  ...  3.566559e-17  2.147363e-15   \n",
       "4  0.099204  0.146163 -0.111391  ... -5.784288e-14 -2.382376e-14   \n",
       "\n",
       "             66            67            68            69            70  \\\n",
       "0  2.492241e-16 -5.203473e-15 -1.360508e-15  3.076252e-15  3.211965e-15   \n",
       "1  7.955956e-16 -4.886299e-15 -1.451678e-15  3.747402e-15  4.238883e-15   \n",
       "2  4.624862e-14  6.576605e-14  2.284935e-15 -4.317931e-14  3.352761e-15   \n",
       "3  1.074652e-14  8.922547e-15  1.857989e-15 -1.680228e-14 -1.831565e-15   \n",
       "4  1.695893e-14  4.673903e-14 -7.996358e-14  5.734540e-15 -2.866697e-14   \n",
       "\n",
       "             71            72            73  \n",
       "0  1.745684e-17 -3.198628e-15 -2.100295e-15  \n",
       "1  1.463913e-15 -2.967619e-15 -3.674554e-16  \n",
       "2 -4.863180e-16  3.675596e-14  3.201220e-15  \n",
       "3 -2.246563e-16  4.222655e-15 -4.773202e-16  \n",
       "4  3.731680e-14 -1.078019e-13 -8.300284e-14  \n",
       "\n",
       "[5 rows x 74 columns]"
      ]
     },
     "metadata": {},
     "execution_count": 26
    }
   ],
   "metadata": {}
  },
  {
   "cell_type": "code",
   "execution_count": 27,
   "source": [
    "# Reduce dimensions\n",
    "tsne_features = tsne.fit_transform(crypto_pca_df)\n",
    "tsne_features.shape"
   ],
   "outputs": [
    {
     "output_type": "execute_result",
     "data": {
      "text/plain": [
       "(532, 2)"
      ]
     },
     "metadata": {},
     "execution_count": 27
    }
   ],
   "metadata": {}
  },
  {
   "cell_type": "code",
   "execution_count": 28,
   "source": [
    "tsne_features"
   ],
   "outputs": [
    {
     "output_type": "execute_result",
     "data": {
      "text/plain": [
       "array([[ 11.893534 ,  10.702577 ],\n",
       "       [ 17.365177 ,   6.3732257],\n",
       "       [ 24.937302 ,  14.178616 ],\n",
       "       ...,\n",
       "       [ 13.723808 , -20.886515 ],\n",
       "       [ -4.628196 , -22.880705 ],\n",
       "       [-11.853415 ,  -3.673423 ]], dtype=float32)"
      ]
     },
     "metadata": {},
     "execution_count": 28
    }
   ],
   "metadata": {}
  },
  {
   "cell_type": "code",
   "execution_count": 29,
   "source": [
    "tsne_features_df = pd.DataFrame(tsne_features)\n",
    "tsne_features_df"
   ],
   "outputs": [
    {
     "output_type": "execute_result",
     "data": {
      "text/html": [
       "<div>\n",
       "<style scoped>\n",
       "    .dataframe tbody tr th:only-of-type {\n",
       "        vertical-align: middle;\n",
       "    }\n",
       "\n",
       "    .dataframe tbody tr th {\n",
       "        vertical-align: top;\n",
       "    }\n",
       "\n",
       "    .dataframe thead th {\n",
       "        text-align: right;\n",
       "    }\n",
       "</style>\n",
       "<table border=\"1\" class=\"dataframe\">\n",
       "  <thead>\n",
       "    <tr style=\"text-align: right;\">\n",
       "      <th></th>\n",
       "      <th>0</th>\n",
       "      <th>1</th>\n",
       "    </tr>\n",
       "  </thead>\n",
       "  <tbody>\n",
       "    <tr>\n",
       "      <th>0</th>\n",
       "      <td>11.893534</td>\n",
       "      <td>10.702577</td>\n",
       "    </tr>\n",
       "    <tr>\n",
       "      <th>1</th>\n",
       "      <td>17.365177</td>\n",
       "      <td>6.373226</td>\n",
       "    </tr>\n",
       "    <tr>\n",
       "      <th>2</th>\n",
       "      <td>24.937302</td>\n",
       "      <td>14.178616</td>\n",
       "    </tr>\n",
       "    <tr>\n",
       "      <th>3</th>\n",
       "      <td>-32.047497</td>\n",
       "      <td>16.234077</td>\n",
       "    </tr>\n",
       "    <tr>\n",
       "      <th>4</th>\n",
       "      <td>3.118342</td>\n",
       "      <td>-22.868019</td>\n",
       "    </tr>\n",
       "    <tr>\n",
       "      <th>...</th>\n",
       "      <td>...</td>\n",
       "      <td>...</td>\n",
       "    </tr>\n",
       "    <tr>\n",
       "      <th>527</th>\n",
       "      <td>-7.168149</td>\n",
       "      <td>-12.635591</td>\n",
       "    </tr>\n",
       "    <tr>\n",
       "      <th>528</th>\n",
       "      <td>18.026657</td>\n",
       "      <td>9.956914</td>\n",
       "    </tr>\n",
       "    <tr>\n",
       "      <th>529</th>\n",
       "      <td>13.723808</td>\n",
       "      <td>-20.886515</td>\n",
       "    </tr>\n",
       "    <tr>\n",
       "      <th>530</th>\n",
       "      <td>-4.628196</td>\n",
       "      <td>-22.880705</td>\n",
       "    </tr>\n",
       "    <tr>\n",
       "      <th>531</th>\n",
       "      <td>-11.853415</td>\n",
       "      <td>-3.673423</td>\n",
       "    </tr>\n",
       "  </tbody>\n",
       "</table>\n",
       "<p>532 rows × 2 columns</p>\n",
       "</div>"
      ],
      "text/plain": [
       "             0          1\n",
       "0    11.893534  10.702577\n",
       "1    17.365177   6.373226\n",
       "2    24.937302  14.178616\n",
       "3   -32.047497  16.234077\n",
       "4     3.118342 -22.868019\n",
       "..         ...        ...\n",
       "527  -7.168149 -12.635591\n",
       "528  18.026657   9.956914\n",
       "529  13.723808 -20.886515\n",
       "530  -4.628196 -22.880705\n",
       "531 -11.853415  -3.673423\n",
       "\n",
       "[532 rows x 2 columns]"
      ]
     },
     "metadata": {},
     "execution_count": 29
    }
   ],
   "metadata": {}
  },
  {
   "cell_type": "code",
   "execution_count": 30,
   "source": [
    "# Prepare to plot the dataset\n",
    "\n",
    "# The first column of transformed features\n",
    "crypto_pca_df['x'] = tsne_features[:,0]\n",
    "\n",
    "# The second column of transformed features\n",
    "crypto_pca_df['y'] = tsne_features[:,1]"
   ],
   "outputs": [],
   "metadata": {}
  },
  {
   "cell_type": "code",
   "execution_count": 31,
   "source": [
    "# Visualize the clusters\n",
    "plt.scatter(crypto_pca_df['x'], crypto_pca_df['y'], alpha=0.3)\n",
    "plt.show()"
   ],
   "outputs": [
    {
     "output_type": "display_data",
     "data": {
      "image/png": "[encoded data removed]",
      "text/plain": [
       "<Figure size 432x288 with 1 Axes>"
      ]
     },
     "metadata": {
      "needs_background": "light"
     }
    }
   ],
   "metadata": {}
  },
  {
   "cell_type": "markdown",
   "source": [
    "#### Q: Are there distinct clusters in the t-SNE scatterplot?\n",
    "* A: There seems to be 3 very distinct clusters [at approx. (5, -15), (15, 10), and (-35, 15)]. There are a number of smaller clusters throughout where multiple currencies are stacked on top of each other (as can be seen in the areas with the darkest colors). One could maybe argue there is a cluster around (-5, 10), but really, that seems like several distinct clusters near each other more than actually being a single group."
   ],
   "metadata": {}
  },
  {
   "cell_type": "markdown",
   "source": [
    "## Cluster Analysis with k-Means\n",
    "* create an elbow plot to identify the best number of clusters\n",
    "* use a for-loop to determine the intertia for each 'k' between 1 through 10\n",
    "* determine, if possible, where the elbow of the plot is, and at which value of 'k' it appears"
   ],
   "metadata": {}
  },
  {
   "cell_type": "code",
   "execution_count": 32,
   "source": [
    "inertia = []\n",
    "# Same as k = list(range(1, 11))\n",
    "k = [1,2,3,4,5,6,7,8,9,10]\n",
    "\n",
    "# Looking for the best k\n",
    "for i in k:\n",
    "    km = KMeans(n_clusters=i, random_state=42)\n",
    "    km.fit(crypto_pca_df)\n",
    "    inertia.append(km.inertia_)\n",
    "\n",
    "# Define a DataFrame to plot the Elbow Curve using hvPlot\n",
    "elbow_data = {\"k\": k, \"inertia\": inertia}\n",
    "df_elbow = pd.DataFrame(elbow_data)\n",
    "\n",
    "plt.plot(df_elbow['k'], df_elbow['inertia'])\n",
    "plt.xticks(range(1,11))\n",
    "plt.xlabel('Number of clusters')\n",
    "plt.ylabel('Inertia')\n",
    "plt.show()"
   ],
   "outputs": [
    {
     "output_type": "display_data",
     "data": {
      "image/png": "[encoded data removed]",
      "text/plain": [
       "<Figure size 432x288 with 1 Axes>"
      ]
     },
     "metadata": {
      "needs_background": "light"
     }
    }
   ],
   "metadata": {}
  },
  {
   "cell_type": "markdown",
   "source": [
    "#### Observation\n",
    "* The primary elbow seems to be at k = 4, with another minor bend at k = 6. When looking at the scatterplot, 4 clusters can be seen relatively quickly."
   ],
   "metadata": {}
  },
  {
   "cell_type": "markdown",
   "source": [
    "## Recommendation\n",
    "* Based on your findings, make a brief (1-2 sentences) recommendation to your clients\n",
    "* Can the cryptocurrencies be clustered together? If so, into how many clusters?\n",
    "\n",
    "\n",
    "I would say the currencies have 4 obvious clusters based on the 2d plot (though there seem to be smaller clusters). Being able to plot in additional dimensions might suggest slightly different results. KMeans elbow plot concurs with the suggestion of 4 distinct clusters in the data. It would be interesting to see if some of the smaller clusters (where a number of values seem to be stacked in very specific locations) have closely related algorithms--if so, that could be an argument to make some of those equivalent groups earlier in the data cleaning process."
   ],
   "metadata": {}
  },
  {
   "cell_type": "markdown",
   "source": [],
   "metadata": {}
  }
 ],
 "metadata": {
  "orig_nbformat": 4,
  "language_info": {
   "name": "python",
   "version": "3.8.5",
   "mimetype": "text/x-python",
   "codemirror_mode": {
    "name": "ipython",
    "version": 3
   },
   "pygments_lexer": "ipython3",
   "nbconvert_exporter": "python",
   "file_extension": ".py"
  },
  "kernelspec": {
   "name": "python3",
   "display_name": "Python 3.8.5 64-bit ('base': conda)"
  },
  "interpreter": {
   "hash": "797aaa517c2851f29685343c41d423cf5c6e3497bc2091e34cd352c6f05b7b6f"
  }
 },
 "nbformat": 4,
 "nbformat_minor": 2
}